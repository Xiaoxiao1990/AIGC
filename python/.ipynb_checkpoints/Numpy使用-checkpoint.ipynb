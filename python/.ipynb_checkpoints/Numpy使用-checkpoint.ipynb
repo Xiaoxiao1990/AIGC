{
 "cells": [
  {
   "cell_type": "markdown",
   "id": "ec898f63",
   "metadata": {},
   "source": [
    "Numpy使用"
   ]
  },
  {
   "cell_type": "code",
   "execution_count": 18,
   "id": "54e19905",
   "metadata": {},
   "outputs": [
    {
     "data": {
      "text/plain": [
       "15"
      ]
     },
     "execution_count": 18,
     "metadata": {},
     "output_type": "execute_result"
    }
   ],
   "source": [
    "# numpy 数组性质\n",
    "import numpy as np;\n",
    "\n",
    "a = np.arange(15).reshape(3,5)\n",
    "\n",
    "# array([[ 0,  1,  2,  3,  4],\n",
    "#        [ 5,  6,  7,  8,  9],\n",
    "#        [10, 11, 12, 13, 14]])\n",
    "\n",
    "# a.shape\n",
    "# (3, 5)\n",
    "\n",
    "# 维数 a.ndim\n",
    "# 2\n",
    "\n",
    "# 元素所占内存字节数 a.itemsize 跟计算机体系有关\n",
    "# 4\n",
    "\n",
    "# 元素个数 a.size\n",
    "# 15"
   ]
  },
  {
   "cell_type": "code",
   "execution_count": 31,
   "id": "b8e2e4c7",
   "metadata": {},
   "outputs": [
    {
     "data": {
      "text/plain": [
       "array([1. , 1.1, 1.2, 1.3, 1.4, 1.5, 1.6, 1.7, 1.8, 1.9, 2. , 2.1, 2.2,\n",
       "       2.3, 2.4, 2.5, 2.6, 2.7, 2.8, 2.9])"
      ]
     },
     "execution_count": 31,
     "metadata": {},
     "output_type": "execute_result"
    }
   ],
   "source": [
    "import numpy as np;\n",
    "\n",
    "# 创建一个数组\n",
    "a = np.array([1,2,3])\n",
    "\n",
    "# 创建浮点型数组\n",
    "b = np.array([1.2,2.3,3.4])\n",
    "\n",
    "# 创建 0 数组\n",
    "zero = np.zeros(5)\n",
    "\n",
    "# 创建 1 数组\n",
    "ones = np.ones(6)\n",
    "\n",
    "# 创建空数据数组,数据内容是随机的，依赖于内存的状态。\n",
    "empty = np.empty((2,3))\n",
    "empty\n",
    "\n",
    "# 创建序列数组 arange()\n",
    "# arange(n) -- 生成n个元素的从0开始的数组\n",
    "# arange(a,b) -- 生成从a开始到b结束的数组\n",
    "# arange(a,b,s) -- 生成从a开始到b结束，步进值为s的数组\n",
    "np.arange(1.0,3.0,0.1)"
   ]
  },
  {
   "cell_type": "code",
   "execution_count": null,
   "id": "64b0b308",
   "metadata": {},
   "outputs": [],
   "source": []
  }
 ],
 "metadata": {
  "kernelspec": {
   "display_name": "Python 3 (ipykernel)",
   "language": "python",
   "name": "python3"
  },
  "language_info": {
   "codemirror_mode": {
    "name": "ipython",
    "version": 3
   },
   "file_extension": ".py",
   "mimetype": "text/x-python",
   "name": "python",
   "nbconvert_exporter": "python",
   "pygments_lexer": "ipython3",
   "version": "3.11.3"
  }
 },
 "nbformat": 4,
 "nbformat_minor": 5
}
